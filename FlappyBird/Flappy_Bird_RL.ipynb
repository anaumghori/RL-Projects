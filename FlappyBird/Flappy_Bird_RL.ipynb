{
  "nbformat": 4,
  "nbformat_minor": 0,
  "metadata": {
    "colab": {
      "provenance": [],
      "authorship_tag": "ABX9TyNBmzpuVGt8o1M1xfVx3Fuj",
      "include_colab_link": true
    },
    "kernelspec": {
      "name": "python3",
      "display_name": "Python 3"
    },
    "language_info": {
      "name": "python"
    }
  },
  "cells": [
    {
      "cell_type": "markdown",
      "metadata": {
        "id": "view-in-github",
        "colab_type": "text"
      },
      "source": [
        "<a href=\"https://colab.research.google.com/github/anaumghori/FlappyBird/blob/main/Flappy_Bird_RL.ipynb\" target=\"_parent\"><img src=\"https://colab.research.google.com/assets/colab-badge.svg\" alt=\"Open In Colab\"/></a>"
      ]
    },
    {
      "cell_type": "markdown",
      "source": [
        "# **Import necessary libraries**"
      ],
      "metadata": {
        "id": "FRNVHdYPFwYj"
      }
    },
    {
      "cell_type": "code",
      "execution_count": null,
      "metadata": {
        "id": "uRe3EgCTFeHv"
      },
      "outputs": [],
      "source": [
        "!pip install pygame pillow"
      ]
    },
    {
      "cell_type": "code",
      "source": [
        "import os\n",
        "import sys\n",
        "if \"google.colab\" in sys.modules:\n",
        "    import os\n",
        "    if not os.path.exists('PyGame-Learning-Environment'):\n",
        "        !git clone https://github.com/ntasfi/PyGame-Learning-Environment.git\n",
        "    os.chdir('PyGame-Learning-Environment')\n",
        "    !pip install -e .\n",
        "    os.chdir('..')\n",
        "    import sys\n",
        "    sys.path.append('./PyGame-Learning-Environment')"
      ],
      "metadata": {
        "id": "Y9irZUhcFkvk"
      },
      "execution_count": null,
      "outputs": []
    },
    {
      "cell_type": "code",
      "source": [
        "import random\n",
        "from collections import deque\n",
        "from itertools import count\n",
        "import numpy as np\n",
        "import torch\n",
        "from torch import nn\n",
        "import torch.nn.functional as F\n",
        "import torch.optim as optim\n",
        "import matplotlib.pyplot as plt\n",
        "import cv2\n",
        "from ple import PLE\n",
        "from ple.games.flappybird import FlappyBird\n",
        "import pygame\n",
        "\n",
        "# Set up headless operation in Colab\n",
        "os.putenv('SDL_VIDEODRIVER', 'dummy')\n",
        "os.environ[\"SDL_VIDEODRIVER\"] = \"dummy\""
      ],
      "metadata": {
        "id": "SDOY06QkFoEA"
      },
      "execution_count": null,
      "outputs": []
    },
    {
      "cell_type": "markdown",
      "source": [
        "# **Define Dueling DQN**"
      ],
      "metadata": {
        "id": "QZ61ofPLGMBC"
      }
    },
    {
      "cell_type": "code",
      "source": [
        "class DQN(nn.Module):\n",
        "    def __init__(self, input_dim, output_dim, network_type='DQN'):\n",
        "        super().__init__()\n",
        "        self.network_type = network_type\n",
        "        self.layer1 = nn.Linear(input_dim, 64)\n",
        "        self.layer2 = nn.Linear(64, 128)\n",
        "        self.layer3 = nn.Linear(128, 256)\n",
        "        self.layer4 = nn.Linear(256, 512)\n",
        "\n",
        "        if network_type == 'DuelingDQN':\n",
        "            self.state_values = nn.Linear(512, 1)\n",
        "            self.advantages = nn.Linear(512, output_dim)\n",
        "        else:\n",
        "            self.output = nn.Linear(512, output_dim)\n",
        "\n",
        "    def forward(self, x):\n",
        "        x = F.relu6(self.layer1(x))\n",
        "        x = F.relu6(self.layer2(x))\n",
        "        x = F.relu6(self.layer3(x))\n",
        "        x = F.relu6(self.layer4(x))\n",
        "        if self.network_type == 'DuelingDQN':\n",
        "            state_values = self.state_values(x)\n",
        "            advantages = self.advantages(x)\n",
        "            return state_values + (advantages - advantages.mean(dim=1, keepdim=True))\n",
        "        else:\n",
        "            return self.output(x)\n",
        "\n",
        "# Memory replay buffer\n",
        "class MemoryRecall:\n",
        "    def __init__(self, memory_size):\n",
        "        self.memory = deque(maxlen=memory_size)\n",
        "\n",
        "    def cache(self, data):\n",
        "        self.memory.append(data)\n",
        "\n",
        "    def recall(self, batch_size):\n",
        "        return random.sample(self.memory, batch_size)\n",
        "\n",
        "    def __len__(self):\n",
        "        return len(self.memory)"
      ],
      "metadata": {
        "id": "cGd2r8noGbt3"
      },
      "execution_count": null,
      "outputs": []
    },
    {
      "cell_type": "markdown",
      "source": [
        "# **Define Agent**"
      ],
      "metadata": {
        "id": "uEL2pGt1HPbs"
      }
    },
    {
      "cell_type": "code",
      "source": [
        "# Define Agent\n",
        "class Agent:\n",
        "    def __init__(self, config):\n",
        "        self.BATCH_SIZE = config['batch_size']\n",
        "        self.GAMMA = config['gamma']\n",
        "        self.TAU = config['tau']\n",
        "        self.device = torch.device('cuda' if torch.cuda.is_available() else 'cpu')\n",
        "        self.epsilon = config['eps_start']\n",
        "        self.EPS_DECAY = config['eps_decay']\n",
        "        self.EPS_MIN = config['eps_min']\n",
        "        self.steps_done = 0\n",
        "\n",
        "        self.policy_net = DQN(config['input_dim'], config['output_dim'], config['network_type']).to(self.device)\n",
        "        self.target_net = DQN(config['input_dim'], config['output_dim'], config['network_type']).to(self.device)\n",
        "        self.target_net.load_state_dict(self.policy_net.state_dict())\n",
        "        self.target_net.eval()\n",
        "\n",
        "        self.optimizer = optim.AdamW(self.policy_net.parameters(), lr=config['lr'])\n",
        "        self.memory = MemoryRecall(config['memory_size'])\n",
        "\n",
        "        self.action_dict = config['action_dict']\n",
        "        self.episode_durations = []\n",
        "\n",
        "    def take_action(self, state):\n",
        "        self.epsilon = max(self.epsilon * self.EPS_DECAY, self.EPS_MIN)\n",
        "        if random.random() > self.epsilon:\n",
        "            with torch.no_grad():\n",
        "                state = state.unsqueeze(0).to(self.device)\n",
        "                action = torch.argmax(self.policy_net(state)).item()\n",
        "        else:\n",
        "            action = random.choice(list(self.action_dict.keys()))\n",
        "        return action\n",
        "\n",
        "    def optimize_model(self):\n",
        "        if len(self.memory) < self.BATCH_SIZE:\n",
        "            return\n",
        "\n",
        "        batch = self.memory.recall(self.BATCH_SIZE)\n",
        "        state_batch, next_state_batch, action_batch, reward_batch, done_batch = zip(*batch)\n",
        "\n",
        "        state_batch = torch.stack(state_batch).to(self.device)\n",
        "        action_batch = torch.tensor(action_batch).unsqueeze(1).to(self.device)\n",
        "        reward_batch = torch.cat(reward_batch).to(self.device)\n",
        "\n",
        "        non_final_mask = torch.tensor(tuple(map(lambda s: s is not None, next_state_batch)), dtype=torch.bool, device=self.device)\n",
        "        non_final_next_states = torch.stack([s for s in next_state_batch if s is not None]).to(self.device)\n",
        "\n",
        "        state_action_values = self.policy_net(state_batch).gather(1, action_batch)\n",
        "\n",
        "        next_state_values = torch.zeros(self.BATCH_SIZE, device=self.device)\n",
        "        with torch.no_grad():\n",
        "            next_state_values[non_final_mask] = self.target_net(non_final_next_states).max(1)[0]\n",
        "\n",
        "        expected_state_action_values = (next_state_values * self.GAMMA) + reward_batch\n",
        "        loss = nn.SmoothL1Loss()(state_action_values, expected_state_action_values.unsqueeze(1))\n",
        "\n",
        "        self.optimizer.zero_grad()\n",
        "        loss.backward()\n",
        "        self.optimizer.step()\n",
        "\n",
        "    def update_target_net(self):\n",
        "        for target_param, policy_param in zip(self.target_net.parameters(), self.policy_net.parameters()):\n",
        "            target_param.data.copy_(self.TAU * policy_param.data + (1 - self.TAU) * target_param.data)\n",
        "\n",
        "    def train(self, env, episodes):\n",
        "        for episode in range(episodes):\n",
        "            env.reset_game()\n",
        "            state = torch.tensor(list(env.getGameState().values()), dtype=torch.float32)\n",
        "\n",
        "            for t in count():\n",
        "                action = self.take_action(state)\n",
        "                reward = env.act(self.action_dict[action])\n",
        "                reward = torch.tensor([reward], dtype=torch.float32)\n",
        "\n",
        "                next_state = env.getGameState()\n",
        "                next_state = torch.tensor(list(next_state.values()), dtype=torch.float32) if not env.game_over() else None\n",
        "\n",
        "                self.memory.cache((state, next_state, action, reward, env.game_over()))\n",
        "\n",
        "                state = next_state\n",
        "\n",
        "                self.optimize_model()\n",
        "                self.update_target_net()\n",
        "\n",
        "                if env.game_over():\n",
        "                    self.episode_durations.append(t + 1)\n",
        "                    break\n",
        "\n",
        "        self.plot_durations()\n",
        "\n",
        "    def plot_durations(self):\n",
        "        plt.figure(1)\n",
        "        plt.clf()\n",
        "        durations = torch.tensor(self.episode_durations, dtype=torch.float)\n",
        "        plt.title('Training')\n",
        "        plt.xlabel('Episode')\n",
        "        plt.ylabel('Duration')\n",
        "        plt.plot(durations.numpy())\n",
        "        if len(durations) >= 100:\n",
        "            means = durations.unfold(0, 100, 1).mean(1).view(-1)\n",
        "            plt.plot(torch.cat((torch.zeros(99), means)).numpy())\n",
        "        plt.savefig('/content/training_progress.png')\n",
        "\n",
        "    def save_replay_video(self, env, filename=\"/content/flappybird_replay.avi\", fps=30):\n",
        "        env.display_screen = True\n",
        "        env.force_fps = False\n",
        "\n",
        "        frame_width = env.getScreenDims()[0]\n",
        "        frame_height = env.getScreenDims()[1]\n",
        "        fourcc = cv2.VideoWriter_fourcc(*'XVID')\n",
        "        out = cv2.VideoWriter(filename, fourcc, fps, (frame_width, frame_height))\n",
        "\n",
        "        env.reset_game()\n",
        "        state = torch.tensor(list(env.getGameState().values()), dtype=torch.float32)\n",
        "\n",
        "        while not env.game_over():\n",
        "            frame = env.getScreenRGB()\n",
        "            out.write(cv2.cvtColor(frame, cv2.COLOR_RGB2BGR))\n",
        "\n",
        "            action = self.take_action(state)\n",
        "            env.act(self.action_dict[action])\n",
        "            state = torch.tensor(list(env.getGameState().values()), dtype=torch.float32)\n",
        "\n",
        "        out.release()\n",
        "        env.display_screen = False"
      ],
      "metadata": {
        "id": "AAUWJz_IG6wT"
      },
      "execution_count": null,
      "outputs": []
    },
    {
      "cell_type": "markdown",
      "source": [
        "# **Main Script**"
      ],
      "metadata": {
        "id": "_2veJGoEIDOq"
      }
    },
    {
      "cell_type": "code",
      "source": [
        "if __name__ == \"__main__\":\n",
        "    game = FlappyBird(width=256, height=256)\n",
        "    env = PLE(game, display_screen=False)\n",
        "    env.init()\n",
        "\n",
        "    actions = env.getActionSet()\n",
        "    action_dict = {0: actions[1], 1: actions[0]}\n",
        "\n",
        "    config = {\n",
        "        'batch_size': 32,\n",
        "        'memory_size': 100000,\n",
        "        'gamma': 0.99,\n",
        "        'tau': 0.005,\n",
        "        'eps_start': 1.0,\n",
        "        'eps_decay': 0.999995,\n",
        "        'eps_min': 0.05,\n",
        "        'lr': 1e-4,\n",
        "        'input_dim': len(env.getGameState()),\n",
        "        'output_dim': len(action_dict),\n",
        "        'network_type': 'DuelingDQN',\n",
        "        'action_dict': action_dict\n",
        "    }\n",
        "\n",
        "    agent = Agent(config)\n",
        "    agent.train(env, episodes=20000)\n",
        "    agent.save_replay_video(env)"
      ],
      "metadata": {
        "id": "_GOMWRqFHIXi"
      },
      "execution_count": null,
      "outputs": []
    }
  ]
}